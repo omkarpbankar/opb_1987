{
 "cells": [
  {
   "cell_type": "markdown",
   "metadata": {},
   "source": [
    "# List Comprehensions"
   ]
  },
  {
   "cell_type": "markdown",
   "metadata": {},
   "source": [
    "Let's learn about list comprehensions! You are given three integers X, Y and Z representing the dimensions of a cuboid along with an\n",
    "integer N. You have to print a list of all possible coordinates given by (i, j, k) on a 3D grid where the sum of i + j + k  is not\n",
    "equal to N. Here, 0 <= i <= X; 0 <= j <= Y; 0 <= k <= Z \n",
    "\n",
    "Input Format\n",
    "Four integers X, Y, Z and N each on four separate lines, respectively.\n",
    "\n",
    "Constraints\n",
    "Print the list in lexicographic increasing order.\n",
    "\n",
    "Sample Input\n",
    "1\n",
    "1\n",
    "1\n",
    "2\n",
    "\n",
    "Sample Output\n",
    "[[0, 0, 0], [0, 0, 1], [0, 1, 0], [1, 0, 0], [1, 1, 1]]\n",
    "\n",
    "\n",
    "Enter your code here. Read input from STDIN. Print output to STDOUT"
   ]
  },
  {
   "cell_type": "code",
   "execution_count": 4,
   "metadata": {},
   "outputs": [
    {
     "name": "stdout",
     "output_type": "stream",
     "text": [
      "1\n",
      "1\n",
      "1\n",
      "3\n",
      "[[0, 0, 0], [0, 0, 1], [0, 1, 0], [0, 1, 1], [1, 0, 0], [1, 0, 1], [1, 1, 0]]\n"
     ]
    }
   ],
   "source": [
    "x = int(input())\n",
    "y = int(input())\n",
    "z = int(input())\n",
    "n = int(input())\n",
    "\n",
    "list = [[i, j, k] for i in range(x + 1) for j in range(y + 1) for k in range(z + 1) if i + j + k != n]\n",
    "print (list)"
   ]
  },
  {
   "cell_type": "code",
   "execution_count": null,
   "metadata": {},
   "outputs": [],
   "source": []
  }
 ],
 "metadata": {
  "kernelspec": {
   "display_name": "Python 3",
   "language": "python",
   "name": "python3"
  },
  "language_info": {
   "codemirror_mode": {
    "name": "ipython",
    "version": 3
   },
   "file_extension": ".py",
   "mimetype": "text/x-python",
   "name": "python",
   "nbconvert_exporter": "python",
   "pygments_lexer": "ipython3",
   "version": "3.8.5"
  }
 },
 "nbformat": 4,
 "nbformat_minor": 4
}
